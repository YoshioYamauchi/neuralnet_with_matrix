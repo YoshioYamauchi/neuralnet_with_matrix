{
 "cells": [
  {
   "cell_type": "markdown",
   "metadata": {},
   "source": [
    "# Neural Networks Optimized with Matrix Calculation"
   ]
  },
  {
   "cell_type": "markdown",
   "metadata": {},
   "source": [
    "## Abstract\n"
   ]
  },
  {
   "cell_type": "markdown",
   "metadata": {},
   "source": [
    "I implemented a neural network optimized with matrix calculation. Though neural networks can be implemented with many 'for' loops, which may be easy to read, the traininig time may become longer because we need at leas 3 'for' loops. When we implement such a network with 30 epochs, 50000 mnist training data, and mini_batch size 10, the network has to implement 150000 loops in tota.\n",
    "\n",
    "This is quite expensive, so I implemented a neural network which uses two for loops and some matrix calculation. I used matrix caculation on update over mini-batch example. The update shares the same weights and biases in the network, so we can conduct the update simultaneously over the examples in the mini-batch."
   ]
  },
  {
   "cell_type": "markdown",
   "metadata": {},
   "source": [
    "## Introduction\n"
   ]
  },
  {
   "cell_type": "markdown",
   "metadata": {},
   "source": [
    "Usually, update over mini-batch is conducted using one 'for' loop. We iterate over the examples in the mini-batch. In each loop, we calculate the gradient of the cost function with respect to weight matrix nad biases of the neurons. \n",
    "\n",
    "Suppose that ${C_x}_i$ is the cost calculated over a specific example $x_i$ in the mini_batch. Althoug we want to calculate the gradient of the cost $C_{all}$ over the entier training examples, it would be quite expensive computation. So we estimate the gradient with some randomely chosen examples. Then out estimate of the gradient is: \n",
    "$$\n",
    "\\widehat{ C_{all} } = \\frac{1}{m}\\sum_{i=0}^{m}C_{xi}$$\n",
    "\n",
    " "
   ]
  },
  {
   "cell_type": "code",
   "execution_count": null,
   "metadata": {},
   "outputs": [],
   "source": []
  }
 ],
 "metadata": {
  "kernelspec": {
   "display_name": "Python 2",
   "language": "python",
   "name": "python2"
  },
  "language_info": {
   "codemirror_mode": {
    "name": "ipython",
    "version": 2
   },
   "file_extension": ".py",
   "mimetype": "text/x-python",
   "name": "python",
   "nbconvert_exporter": "python",
   "pygments_lexer": "ipython2",
   "version": "2.7.14"
  }
 },
 "nbformat": 4,
 "nbformat_minor": 2
}
